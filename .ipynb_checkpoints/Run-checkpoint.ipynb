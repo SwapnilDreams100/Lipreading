{
 "cells": [
  {
   "cell_type": "code",
   "execution_count": null,
   "metadata": {},
   "outputs": [],
   "source": [
    "CUDA_VISIBLE_DEVICES=0 python main.py --config-path <MODEL-JSON-PATH> \\\n",
    "                                      --annonation-direc <ANNONATION-DIRECTORY> \\\n",
    "                                      --data-dir <MOUTH-ROIS-DIRECTORY>"
   ]
  }
 ],
 "metadata": {
  "kernelspec": {
   "display_name": "Mini-Project",
   "language": "python",
   "name": "mp"
  },
  "language_info": {
   "name": ""
  }
 },
 "nbformat": 4,
 "nbformat_minor": 4
}
